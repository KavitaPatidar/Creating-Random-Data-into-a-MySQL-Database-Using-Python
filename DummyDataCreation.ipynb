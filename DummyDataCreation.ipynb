{
 "cells": [
  {
   "cell_type": "markdown",
   "metadata": {},
   "source": [
    "If we want to create hundreds or even thousands of records, there is definitely no way we could write that many insert statements into our SQL. It will be very terious and time consuming. "
   ]
  },
  {
   "cell_type": "markdown",
   "metadata": {},
   "source": [
    "To make it easy, we will use Python. To start, install python packages using pip. Open anaconda prompt and type (without quotes) \"pip install pandas Faker sqlalchemy mysqlclient\"."
   ]
  },
  {
   "cell_type": "markdown",
   "metadata": {},
   "source": [
    "Import libraries--\n",
    "Faker — We will use this to generate our dummy data.\n",
    "Pandas — This is a data analysis tool that will be used to package our dummy data and convert it to tables in a database system.\n",
    "SQLAlchemy — This is an Object Relational Mapper(ORM) for SQL. ORM will be used as our database engine as it will provide connection to our database."
   ]
  },
  {
   "cell_type": "code",
   "execution_count": 1,
   "metadata": {},
   "outputs": [],
   "source": [
    "import pandas as pd\n",
    "from faker import Faker\n",
    "from collections import defaultdict # will act as our dictionary as it will provide additional functionality over a normal dictionary\n",
    "from sqlalchemy import create_engine"
   ]
  },
  {
   "cell_type": "code",
   "execution_count": 18,
   "metadata": {},
   "outputs": [],
   "source": [
    "fake = Faker()"
   ]
  },
  {
   "cell_type": "code",
   "execution_count": 19,
   "metadata": {},
   "outputs": [],
   "source": [
    "fake_data = defaultdict(list) #  will create a dictionary that will create key-value pairs that are not currently stored within the dictionary when accessed. Essentially, you do not need to define any keys within your dictionary."
   ]
  },
  {
   "cell_type": "code",
   "execution_count": 20,
   "metadata": {},
   "outputs": [],
   "source": [
    "# example:\n",
    "for _ in range(1000):\n",
    "    fake_data[\"first_name\"].append( fake.first_name() )\n",
    "    fake_data[\"last_name\"].append( fake.last_name() )\n",
    "    fake_data[\"occupation\"].append( fake.job() )\n",
    "    fake_data[\"dob\"].append( fake.date_of_birth() )\n",
    "    fake_data[\"country\"].append( fake.country() )"
   ]
  },
  {
   "cell_type": "markdown",
   "metadata": {},
   "source": [
    "We can access this data through different methods within the fake data instance. The methods we’ll be accessing are first_name() , last_name(), job(), date_of_birth() and country()."
   ]
  },
  {
   "cell_type": "code",
   "execution_count": 21,
   "metadata": {},
   "outputs": [],
   "source": [
    "df_fake_data = pd.DataFrame(fake_data)"
   ]
  },
  {
   "cell_type": "code",
   "execution_count": 22,
   "metadata": {},
   "outputs": [
    {
     "data": {
      "text/html": [
       "<div>\n",
       "<style scoped>\n",
       "    .dataframe tbody tr th:only-of-type {\n",
       "        vertical-align: middle;\n",
       "    }\n",
       "\n",
       "    .dataframe tbody tr th {\n",
       "        vertical-align: top;\n",
       "    }\n",
       "\n",
       "    .dataframe thead th {\n",
       "        text-align: right;\n",
       "    }\n",
       "</style>\n",
       "<table border=\"1\" class=\"dataframe\">\n",
       "  <thead>\n",
       "    <tr style=\"text-align: right;\">\n",
       "      <th></th>\n",
       "      <th>first_name</th>\n",
       "      <th>last_name</th>\n",
       "      <th>occupation</th>\n",
       "      <th>dob</th>\n",
       "      <th>country</th>\n",
       "    </tr>\n",
       "  </thead>\n",
       "  <tbody>\n",
       "    <tr>\n",
       "      <th>0</th>\n",
       "      <td>Christopher</td>\n",
       "      <td>Frazier</td>\n",
       "      <td>Ranger/warden</td>\n",
       "      <td>2012-11-17</td>\n",
       "      <td>Papua New Guinea</td>\n",
       "    </tr>\n",
       "    <tr>\n",
       "      <th>1</th>\n",
       "      <td>Elizabeth</td>\n",
       "      <td>Sawyer</td>\n",
       "      <td>Administrator, local government</td>\n",
       "      <td>1991-09-26</td>\n",
       "      <td>Latvia</td>\n",
       "    </tr>\n",
       "    <tr>\n",
       "      <th>2</th>\n",
       "      <td>Kimberly</td>\n",
       "      <td>Pace</td>\n",
       "      <td>Therapist, music</td>\n",
       "      <td>2014-12-31</td>\n",
       "      <td>Western Sahara</td>\n",
       "    </tr>\n",
       "    <tr>\n",
       "      <th>3</th>\n",
       "      <td>Jessica</td>\n",
       "      <td>Patterson</td>\n",
       "      <td>Chief Technology Officer</td>\n",
       "      <td>1952-06-13</td>\n",
       "      <td>Bahamas</td>\n",
       "    </tr>\n",
       "    <tr>\n",
       "      <th>4</th>\n",
       "      <td>John</td>\n",
       "      <td>King</td>\n",
       "      <td>Ship broker</td>\n",
       "      <td>1995-07-14</td>\n",
       "      <td>Lebanon</td>\n",
       "    </tr>\n",
       "    <tr>\n",
       "      <th>...</th>\n",
       "      <td>...</td>\n",
       "      <td>...</td>\n",
       "      <td>...</td>\n",
       "      <td>...</td>\n",
       "      <td>...</td>\n",
       "    </tr>\n",
       "    <tr>\n",
       "      <th>995</th>\n",
       "      <td>Steven</td>\n",
       "      <td>Scott</td>\n",
       "      <td>Newspaper journalist</td>\n",
       "      <td>2006-11-14</td>\n",
       "      <td>Argentina</td>\n",
       "    </tr>\n",
       "    <tr>\n",
       "      <th>996</th>\n",
       "      <td>Emily</td>\n",
       "      <td>Cunningham</td>\n",
       "      <td>Advertising account executive</td>\n",
       "      <td>2010-09-17</td>\n",
       "      <td>Bangladesh</td>\n",
       "    </tr>\n",
       "    <tr>\n",
       "      <th>997</th>\n",
       "      <td>Whitney</td>\n",
       "      <td>Davidson</td>\n",
       "      <td>Scientist, biomedical</td>\n",
       "      <td>1954-12-17</td>\n",
       "      <td>Hong Kong</td>\n",
       "    </tr>\n",
       "    <tr>\n",
       "      <th>998</th>\n",
       "      <td>Melissa</td>\n",
       "      <td>Wu</td>\n",
       "      <td>Contracting civil engineer</td>\n",
       "      <td>1946-12-19</td>\n",
       "      <td>Trinidad and Tobago</td>\n",
       "    </tr>\n",
       "    <tr>\n",
       "      <th>999</th>\n",
       "      <td>Laura</td>\n",
       "      <td>Donovan</td>\n",
       "      <td>Film/video editor</td>\n",
       "      <td>1980-05-26</td>\n",
       "      <td>Christmas Island</td>\n",
       "    </tr>\n",
       "  </tbody>\n",
       "</table>\n",
       "<p>1000 rows × 5 columns</p>\n",
       "</div>"
      ],
      "text/plain": [
       "      first_name   last_name                       occupation         dob  \\\n",
       "0    Christopher     Frazier                    Ranger/warden  2012-11-17   \n",
       "1      Elizabeth      Sawyer  Administrator, local government  1991-09-26   \n",
       "2       Kimberly        Pace                 Therapist, music  2014-12-31   \n",
       "3        Jessica   Patterson         Chief Technology Officer  1952-06-13   \n",
       "4           John        King                      Ship broker  1995-07-14   \n",
       "..           ...         ...                              ...         ...   \n",
       "995       Steven       Scott             Newspaper journalist  2006-11-14   \n",
       "996        Emily  Cunningham    Advertising account executive  2010-09-17   \n",
       "997      Whitney    Davidson            Scientist, biomedical  1954-12-17   \n",
       "998      Melissa          Wu       Contracting civil engineer  1946-12-19   \n",
       "999        Laura     Donovan                Film/video editor  1980-05-26   \n",
       "\n",
       "                 country  \n",
       "0       Papua New Guinea  \n",
       "1                 Latvia  \n",
       "2         Western Sahara  \n",
       "3                Bahamas  \n",
       "4                Lebanon  \n",
       "..                   ...  \n",
       "995            Argentina  \n",
       "996           Bangladesh  \n",
       "997            Hong Kong  \n",
       "998  Trinidad and Tobago  \n",
       "999     Christmas Island  \n",
       "\n",
       "[1000 rows x 5 columns]"
      ]
     },
     "execution_count": 22,
     "metadata": {},
     "output_type": "execute_result"
    }
   ],
   "source": [
    "df_fake_data"
   ]
  },
  {
   "cell_type": "markdown",
   "metadata": {},
   "source": [
    "Install mysqlconnector using \"pip install mysql-connector\" in anoconda prompt."
   ]
  },
  {
   "cell_type": "code",
   "execution_count": 23,
   "metadata": {},
   "outputs": [],
   "source": [
    "import sqlalchemy\n",
    "database_username = 'username'\n",
    "database_password = 'password'\n",
    "database_ip       = 'ip address'\n",
    "database_name     = 'database'\n",
    "database_connection = sqlalchemy.create_engine('mysql+mysqlconnector://{0}:{1}@{2}/{3}'.\n",
    "                                               format(database_username, database_password, \n",
    "                                                      database_ip, database_name))\n",
    "df_fake_data.to_sql(con=database_connection, name='table_name_for_df', if_exists='replace')"
   ]
  },
  {
   "cell_type": "markdown",
   "metadata": {},
   "source": [
    "We can get all this info (username....) from mysql workbench--> database-->manage connections. "
   ]
  },
  {
   "cell_type": "markdown",
   "metadata": {},
   "source": [
    "Database_name is the database that you created in your Mysqlwb where you want this dummy data. After completing thus process, you can check the new table in our database in MySQLwb."
   ]
  }
 ],
 "metadata": {
  "kernelspec": {
   "display_name": "Python 3",
   "language": "python",
   "name": "python3"
  },
  "language_info": {
   "codemirror_mode": {
    "name": "ipython",
    "version": 3
   },
   "file_extension": ".py",
   "mimetype": "text/x-python",
   "name": "python",
   "nbconvert_exporter": "python",
   "pygments_lexer": "ipython3",
   "version": "3.8.5"
  }
 },
 "nbformat": 4,
 "nbformat_minor": 4
}
